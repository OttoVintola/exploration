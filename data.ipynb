{
 "cells": [
  {
   "cell_type": "code",
   "execution_count": null,
   "metadata": {},
   "outputs": [],
   "source": [
    "import yfinance as yf\n",
    "import pandas as pd"
   ]
  },
  {
   "cell_type": "code",
   "execution_count": null,
   "metadata": {},
   "outputs": [],
   "source": [
    "# Get the data for Apple in 1 minute interval\n",
    "\n",
    "data = yf.download(tickers=['NESTE.HE'], interval=\"1m\", period=\"max\")"
   ]
  },
  {
   "cell_type": "code",
   "execution_count": null,
   "metadata": {},
   "outputs": [],
   "source": [
    "from stock_list import stocks  # assuming stock_list.py is in the same directory\n",
    "\n",
    "def fetch_minute_data(ticker_list):\n",
    "    \"\"\"\n",
    "    Fetches historical market data (Open, High, Low, Close, Volume) at 1-minute intervals\n",
    "    for each ticker in ticker_list.\n",
    "    \n",
    "    Parameters:\n",
    "        ticker_list (list): List of ticker symbols (with .HE suffix)\n",
    "    \n",
    "    Returns:\n",
    "        data_dict (dict): Dictionary with ticker symbols as keys and corresponding\n",
    "                          minute-level dataframe as values.\n",
    "    \"\"\"\n",
    "    data_dict = {}\n",
    "    for ticker in ticker_list:\n",
    "        try:\n",
    "            print(f\"Fetching 1-minute data for {ticker}...\")\n",
    "            # period='max' is used as requested (though Yahoo Finance limits\n",
    "            # 1-minute resolution to approximately the last 30 days)\n",
    "            df = yf.download(ticker, period=\"max\", interval=\"1m\", progress=False)\n",
    "            if df.empty:\n",
    "                print(f\"No data returned for {ticker}\")\n",
    "            else:\n",
    "                data_dict[ticker] = df\n",
    "        except Exception as e:\n",
    "            print(f\"Error fetching data for {ticker}: {e}\")\n",
    "    return data_dict\n"
   ]
  },
  {
   "cell_type": "code",
   "execution_count": null,
   "metadata": {},
   "outputs": [],
   "source": [
    "def fetch_financial_measures(ticker_list):\n",
    "    \"\"\"\n",
    "    Fetches financial measures (e.g., P/E, EPS, Market Cap, etc.) for each ticker.\n",
    "    \n",
    "    Parameters:\n",
    "        ticker_list (list): List of ticker symbols (with .HE suffix)\n",
    "    \n",
    "    Returns:\n",
    "        info_dict (dict): Dictionary with ticker symbols as keys and the financial\n",
    "                          info (a dictionary of measures) as values.\n",
    "    \"\"\"\n",
    "    info_dict = {}\n",
    "    for ticker in ticker_list:\n",
    "        try:\n",
    "            print(f\"Fetching financial measures for {ticker}...\")\n",
    "            ticker_obj = yf.Ticker(ticker)\n",
    "            # The 'info' attribute usually contains a wide variety of financial measures.\n",
    "            info = ticker_obj.info\n",
    "            if not info:\n",
    "                print(f\"No financial info returned for {ticker}.\")\n",
    "            info_dict[ticker] = info\n",
    "        except Exception as e:\n",
    "            print(f\"Error fetching info for {ticker}: {e}\")\n",
    "    return info_dict\n"
   ]
  },
  {
   "cell_type": "code",
   "execution_count": null,
   "metadata": {},
   "outputs": [],
   "source": [
    "# Save financial indicators to a parquet file with the name \"{stock}_indicators.parquet\" in the data folder\n",
    "\n",
    "def save_financial_indicators_to_parquet(info_dict, folder_path='data'):\n",
    "    \"\"\"\n",
    "    Saves the financial indicators to a parquet file.\n",
    "    \n",
    "    Parameters:\n",
    "        info_dict (dict): Dictionary with ticker symbols as keys and the financial\n",
    "                          info (a dictionary of measures) as values.\n",
    "        folder_path (str): Path to the folder where the parquet files will be saved.\n",
    "    \"\"\"\n",
    "    for ticker, info in info_dict.items():\n",
    "        try:\n",
    "            # Convert the info dictionary to a DataFrame\n",
    "            df = pd.DataFrame([info])\n",
    "            # Save to parquet file\n",
    "            file_name = f\"{folder_path}/{ticker}_indicators.parquet\"\n",
    "            df.to_parquet(file_name, index=False)\n",
    "            print(f\"Saved financial indicators for {ticker} to {file_name}\")\n",
    "        except Exception as e:\n",
    "            print(f\"Error saving financial indicators for {ticker}: {e}\")\n",
    "\n",
    "# Save the minute data to a parquet file with the name \"{stock}_time_series.parquet\" in the data folder\n",
    "\n",
    "def save_minute_data_to_parquet(data_dict, folder_path='data'):\n",
    "    \"\"\"\n",
    "    Saves the minute data to a parquet file.\n",
    "    \n",
    "    Parameters:\n",
    "        data_dict (dict): Dictionary with ticker symbols as keys and corresponding\n",
    "                          minute-level dataframe as values.\n",
    "        folder_path (str): Path to the folder where the parquet files will be saved.\n",
    "    \"\"\"\n",
    "    for ticker, df in data_dict.items():\n",
    "        try:\n",
    "            # Save to parquet file\n",
    "            file_name = f\"{folder_path}/{ticker}_time_series.parquet\"\n",
    "            df.to_parquet(file_name)\n",
    "            print(f\"Saved minute data for {ticker} to {file_name}\")\n",
    "        except Exception as e:\n",
    "            print(f\"Error saving minute data for {ticker}: {e}\")"
   ]
  },
  {
   "cell_type": "code",
   "execution_count": null,
   "metadata": {},
   "outputs": [],
   "source": [
    "save_minute_data_to_parquet(minute_data)\n",
    "\n",
    "save_financial_indicators_to_parquet(financial_indicators)"
   ]
  },
  {
   "cell_type": "code",
   "execution_count": null,
   "metadata": {},
   "outputs": [],
   "source": []
  }
 ],
 "metadata": {
  "kernelspec": {
   "display_name": "Python 3",
   "language": "python",
   "name": "python3"
  },
  "language_info": {
   "codemirror_mode": {
    "name": "ipython",
    "version": 3
   },
   "file_extension": ".py",
   "mimetype": "text/x-python",
   "name": "python",
   "nbconvert_exporter": "python",
   "pygments_lexer": "ipython3",
   "version": "3.11.1"
  }
 },
 "nbformat": 4,
 "nbformat_minor": 2
}
